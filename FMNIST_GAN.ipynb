{
  "nbformat": 4,
  "nbformat_minor": 0,
  "metadata": {
    "colab": {
      "name": "FMNIST_GAN.ipynb",
      "version": "0.3.2",
      "provenance": []
    },
    "kernelspec": {
      "name": "python3",
      "display_name": "Python 3"
    }
  },
  "cells": [
    {
      "cell_type": "markdown",
      "metadata": {
        "id": "OxR31JlAKSAt",
        "colab_type": "text"
      },
      "source": [
        "# **Generative Adversarial Network on the MNIST fashion dataset**"
      ]
    },
    {
      "cell_type": "markdown",
      "metadata": {
        "id": "4PdaXFE2Kidd",
        "colab_type": "text"
      },
      "source": [
        "Necessary file downloads"
      ]
    },
    {
      "cell_type": "code",
      "metadata": {
        "id": "ClLmyGH0vpYP",
        "colab_type": "code",
        "colab": {
          "base_uri": "https://localhost:8080/",
          "height": 765
        },
        "outputId": "4c7ac874-29e7-48bd-bc07-7f1fb873fe68"
      },
      "source": [
        "!wget http://fashion-mnist.s3-website.eu-central-1.amazonaws.com/train-images-idx3-ubyte.gz\n",
        "!wget http://fashion-mnist.s3-website.eu-central-1.amazonaws.com/train-labels-idx1-ubyte.gz\n",
        "!wget http://fashion-mnist.s3-website.eu-central-1.amazonaws.com/t10k-images-idx3-ubyte.gz\n",
        "!wget http://fashion-mnist.s3-website.eu-central-1.amazonaws.com/t10k-labels-idx1-ubyte.gz"
      ],
      "execution_count": 17,
      "outputs": [
        {
          "output_type": "stream",
          "text": [
            "--2019-06-21 11:13:40--  http://fashion-mnist.s3-website.eu-central-1.amazonaws.com/train-images-idx3-ubyte.gz\n",
            "Resolving fashion-mnist.s3-website.eu-central-1.amazonaws.com (fashion-mnist.s3-website.eu-central-1.amazonaws.com)... 52.219.72.138\n",
            "Connecting to fashion-mnist.s3-website.eu-central-1.amazonaws.com (fashion-mnist.s3-website.eu-central-1.amazonaws.com)|52.219.72.138|:80... connected.\n",
            "HTTP request sent, awaiting response... 200 OK\n",
            "Length: 26421880 (25M) [binary/octet-stream]\n",
            "Saving to: ‘train-images-idx3-ubyte.gz’\n",
            "\n",
            "train-images-idx3-u 100%[===================>]  25.20M  17.0MB/s    in 1.5s    \n",
            "\n",
            "2019-06-21 11:13:42 (17.0 MB/s) - ‘train-images-idx3-ubyte.gz’ saved [26421880/26421880]\n",
            "\n",
            "--2019-06-21 11:13:43--  http://fashion-mnist.s3-website.eu-central-1.amazonaws.com/train-labels-idx1-ubyte.gz\n",
            "Resolving fashion-mnist.s3-website.eu-central-1.amazonaws.com (fashion-mnist.s3-website.eu-central-1.amazonaws.com)... 52.219.72.138\n",
            "Connecting to fashion-mnist.s3-website.eu-central-1.amazonaws.com (fashion-mnist.s3-website.eu-central-1.amazonaws.com)|52.219.72.138|:80... connected.\n",
            "HTTP request sent, awaiting response... 200 OK\n",
            "Length: 29515 (29K) [binary/octet-stream]\n",
            "Saving to: ‘train-labels-idx1-ubyte.gz’\n",
            "\n",
            "train-labels-idx1-u 100%[===================>]  28.82K  --.-KB/s    in 0.1s    \n",
            "\n",
            "2019-06-21 11:13:44 (289 KB/s) - ‘train-labels-idx1-ubyte.gz’ saved [29515/29515]\n",
            "\n",
            "--2019-06-21 11:13:46--  http://fashion-mnist.s3-website.eu-central-1.amazonaws.com/t10k-images-idx3-ubyte.gz\n",
            "Resolving fashion-mnist.s3-website.eu-central-1.amazonaws.com (fashion-mnist.s3-website.eu-central-1.amazonaws.com)... 52.219.73.62\n",
            "Connecting to fashion-mnist.s3-website.eu-central-1.amazonaws.com (fashion-mnist.s3-website.eu-central-1.amazonaws.com)|52.219.73.62|:80... connected.\n",
            "HTTP request sent, awaiting response... 200 OK\n",
            "Length: 4422102 (4.2M) [binary/octet-stream]\n",
            "Saving to: ‘t10k-images-idx3-ubyte.gz’\n",
            "\n",
            "t10k-images-idx3-ub 100%[===================>]   4.22M  5.36MB/s    in 0.8s    \n",
            "\n",
            "2019-06-21 11:13:47 (5.36 MB/s) - ‘t10k-images-idx3-ubyte.gz’ saved [4422102/4422102]\n",
            "\n",
            "--2019-06-21 11:13:48--  http://fashion-mnist.s3-website.eu-central-1.amazonaws.com/t10k-labels-idx1-ubyte.gz\n",
            "Resolving fashion-mnist.s3-website.eu-central-1.amazonaws.com (fashion-mnist.s3-website.eu-central-1.amazonaws.com)... 52.219.73.62\n",
            "Connecting to fashion-mnist.s3-website.eu-central-1.amazonaws.com (fashion-mnist.s3-website.eu-central-1.amazonaws.com)|52.219.73.62|:80... connected.\n",
            "HTTP request sent, awaiting response... 200 OK\n",
            "Length: 5148 (5.0K) [binary/octet-stream]\n",
            "Saving to: ‘t10k-labels-idx1-ubyte.gz’\n",
            "\n",
            "t10k-labels-idx1-ub 100%[===================>]   5.03K  --.-KB/s    in 0s      \n",
            "\n",
            "2019-06-21 11:13:48 (482 MB/s) - ‘t10k-labels-idx1-ubyte.gz’ saved [5148/5148]\n",
            "\n"
          ],
          "name": "stdout"
        }
      ]
    },
    {
      "cell_type": "code",
      "metadata": {
        "id": "nq06HKf6wlVS",
        "colab_type": "code",
        "colab": {
          "base_uri": "https://localhost:8080/",
          "height": 34
        },
        "outputId": "4587356c-f0e7-42f2-de65-5fad1bfed682"
      },
      "source": [
        "!mkdir mnist_fashion\n",
        "!cp *.gz mnist_fashion/"
      ],
      "execution_count": 18,
      "outputs": [
        {
          "output_type": "stream",
          "text": [
            "mkdir: cannot create directory ‘mnist_fashion’: File exists\n"
          ],
          "name": "stdout"
        }
      ]
    },
    {
      "cell_type": "code",
      "metadata": {
        "id": "2BY9JfZJxLSx",
        "colab_type": "code",
        "colab": {
          "base_uri": "https://localhost:8080/",
          "height": 85
        },
        "outputId": "9c43cf60-1c6f-4648-d513-43e603e841b5"
      },
      "source": [
        "from tensorflow.examples.tutorials.mnist import input_data\n",
        "mnist = input_data.read_data_sets('mnist_fashion/')"
      ],
      "execution_count": 28,
      "outputs": [
        {
          "output_type": "stream",
          "text": [
            "Extracting mnist_fashion/train-images-idx3-ubyte.gz\n",
            "Extracting mnist_fashion/train-labels-idx1-ubyte.gz\n",
            "Extracting mnist_fashion/t10k-images-idx3-ubyte.gz\n",
            "Extracting mnist_fashion/t10k-labels-idx1-ubyte.gz\n"
          ],
          "name": "stdout"
        }
      ]
    },
    {
      "cell_type": "markdown",
      "metadata": {
        "id": "6koLXdAvKsBI",
        "colab_type": "text"
      },
      "source": [
        "**Hyperparameters**\n",
        "\n",
        "1.   lr : Learning rate set to 0.0002 for the Adam optimizer\n",
        "2.   epochs : Number of training epochs\n",
        "3.   batch_size : batch size\n",
        "3.   image_dim : Dimension of flattened $28*28$ MNIST fashion image\n",
        "4.   gen_dim : Dimension of Generator hidden layer\n",
        "5.   dis_dim : Dimension of Discriminator hidden layer\n",
        "7.   z_dim : Dimension of Generator noise\n"
      ]
    },
    {
      "cell_type": "code",
      "metadata": {
        "id": "W423epp7xXUP",
        "colab_type": "code",
        "colab": {}
      },
      "source": [
        "lr = 2e-4\n",
        "batch_size = 128\n",
        "epochs = 100000\n",
        "image_dim = 784\n",
        "gen_dim = 256\n",
        "dis_dim = 256\n",
        "z_dim = 100"
      ],
      "execution_count": 0,
      "outputs": []
    },
    {
      "cell_type": "markdown",
      "metadata": {
        "id": "zWPkq4kkLOjY",
        "colab_type": "text"
      },
      "source": [
        "Xavier initialization, given by $1/{\\sqrt{\\frac{n}{2}}}$ where $n$ represents input dimension"
      ]
    },
    {
      "cell_type": "code",
      "metadata": {
        "id": "pk42DTFBx4Qe",
        "colab_type": "code",
        "colab": {}
      },
      "source": [
        "def Xavier(in_shape):\n",
        "  return tf.random_normal(shape = in_shape, stddev = 1./tf.sqrt(in_shape[0]/2.))"
      ],
      "execution_count": 0,
      "outputs": []
    },
    {
      "cell_type": "markdown",
      "metadata": {
        "id": "Up5X3JenLQSx",
        "colab_type": "text"
      },
      "source": [
        "Essential weights and biases"
      ]
    },
    {
      "cell_type": "code",
      "metadata": {
        "id": "EzplUo6Kx4rs",
        "colab_type": "code",
        "colab": {}
      },
      "source": [
        "import tensorflow as tf\n",
        "import numpy as np\n",
        "import matplotlib.pyplot as plt\n",
        "weights = {\n",
        "    'dis_h' : tf.Variable(Xavier([image_dim, dis_dim])),\n",
        "    'dis_final' : tf.Variable(Xavier([dis_dim, 1])),\n",
        "    'gen_h' : tf.Variable(Xavier([z_dim, gen_dim])),\n",
        "    'gen_final' : tf.Variable(Xavier([gen_dim, image_dim]))\n",
        "}\n",
        "bias = {\n",
        "    'dis_h' : tf.Variable(Xavier([dis_dim])),\n",
        "    'dis_final' : tf.Variable(Xavier([1])),\n",
        "    'gen_h' : tf.Variable(Xavier([gen_dim])),\n",
        "    'gen_final' : tf.Variable(Xavier([image_dim]))\n",
        "}"
      ],
      "execution_count": 0,
      "outputs": []
    },
    {
      "cell_type": "markdown",
      "metadata": {
        "id": "2dF5n4o-LUG8",
        "colab_type": "text"
      },
      "source": [
        "We define the discriminator as a simple hidden layer FC network "
      ]
    },
    {
      "cell_type": "code",
      "metadata": {
        "id": "Bu5XYvnAzHNh",
        "colab_type": "code",
        "colab": {}
      },
      "source": [
        "def Discriminator(x):\n",
        "  hidden = tf.nn.relu(tf.add(tf.matmul(x, weights['dis_h']), bias['dis_h']))\n",
        "  final = tf.add(tf.matmul(hidden, weights['dis_final']), bias['dis_final'])\n",
        "  out = tf.nn.sigmoid(final)\n",
        "  return final, out"
      ],
      "execution_count": 0,
      "outputs": []
    },
    {
      "cell_type": "markdown",
      "metadata": {
        "id": "eWky6NsALqoS",
        "colab_type": "text"
      },
      "source": [
        "We define the Generator as a simple hidden layer FC network with the output dimension the same as the image dimension we wish to generate"
      ]
    },
    {
      "cell_type": "code",
      "metadata": {
        "id": "A2-FUTOXz2Xw",
        "colab_type": "code",
        "colab": {}
      },
      "source": [
        "def Generator(x):\n",
        "  hidden = tf.nn.relu(tf.add(tf.matmul(x, weights['gen_h']), bias['gen_h']))\n",
        "  final = tf.add(tf.matmul(hidden, weights['gen_final']), bias['gen_final'])\n",
        "  out = tf.nn.sigmoid(final)\n",
        "  return out"
      ],
      "execution_count": 0,
      "outputs": []
    },
    {
      "cell_type": "markdown",
      "metadata": {
        "id": "KoP43RCVLyWQ",
        "colab_type": "text"
      },
      "source": [
        "Define the noise and input placeholders respectively"
      ]
    },
    {
      "cell_type": "code",
      "metadata": {
        "id": "807vuf120FPk",
        "colab_type": "code",
        "colab": {}
      },
      "source": [
        "z_in = tf.placeholder(tf.float32, shape = [None, z_dim], name = 'noise')\n",
        "x_in = tf.placeholder(tf.float32, shape = [None, image_dim], name = 'input')"
      ],
      "execution_count": 0,
      "outputs": []
    },
    {
      "cell_type": "code",
      "metadata": {
        "id": "kexkkVBP9F9Q",
        "colab_type": "code",
        "colab": {}
      },
      "source": [
        "with tf.name_scope(\"Generator\") as scope:\n",
        "  out_gen = Generator(z_in)\n",
        "with tf.name_scope(\"Discriminator\") as scope:\n",
        "  real_temp_dis, real_dis = Discriminator(x_in)\n",
        "  fake_temp_dis, fake_dis = Discriminator(out_gen)"
      ],
      "execution_count": 0,
      "outputs": []
    },
    {
      "cell_type": "markdown",
      "metadata": {
        "id": "lb7q2vlcMJzF",
        "colab_type": "text"
      },
      "source": [
        "The discriminator and the generator loss functions are defined as follows\n",
        "\n",
        "$L_d = \\log{(D(x))} + \\log{(1 - D(G(z)))}$ \n",
        "\n",
        "$L_g = \\log{(D(G(z)))}$"
      ]
    },
    {
      "cell_type": "code",
      "metadata": {
        "id": "7M3DLBVeAn1r",
        "colab_type": "code",
        "colab": {}
      },
      "source": [
        "eps = 1e-5\n",
        "with tf.name_scope(\"Dis_loss\") as scope:\n",
        "  disloss = -tf.reduce_mean(tf.log(real_dis + eps) + tf.log(1 - fake_dis + eps))\n",
        "with tf.name_scope(\"Gen_loss\") as scope:\n",
        "  genloss = -tf.reduce_mean(tf.log(fake_dis + eps))\n",
        "\n",
        "dis_loss_total = tf.summary.scalar(\"dis_total_loss\", disloss)\n",
        "gen_loss_total = tf.summary.scalar(\"gen_total_loss\", genloss)"
      ],
      "execution_count": 0,
      "outputs": []
    },
    {
      "cell_type": "code",
      "metadata": {
        "id": "Ibhy8d6vCALa",
        "colab_type": "code",
        "colab": {}
      },
      "source": [
        "gen_var = [weights['gen_h'], weights['gen_final'], bias['gen_h'], bias['gen_final']]\n",
        "dis_var = [weights['dis_h'], weights['dis_final'], bias['dis_h'], bias['dis_final']]"
      ],
      "execution_count": 0,
      "outputs": []
    },
    {
      "cell_type": "markdown",
      "metadata": {
        "id": "SkI3eb7RNADe",
        "colab_type": "text"
      },
      "source": [
        "Optimize the parameters of the adversarial networks separately"
      ]
    },
    {
      "cell_type": "code",
      "metadata": {
        "id": "karyJM2NEehp",
        "colab_type": "code",
        "colab": {}
      },
      "source": [
        "with tf.name_scope(\"opt_dis\") as scope:\n",
        "  disopt = tf.train.AdamOptimizer(learning_rate = lr).minimize(disloss, var_list = dis_var)\n",
        "with tf.name_scope(\"opt_gen\") as scope:\n",
        "  genopt = tf.train.AdamOptimizer(learning_rate = lr).minimize(genloss, var_list = gen_var)"
      ],
      "execution_count": 0,
      "outputs": []
    },
    {
      "cell_type": "code",
      "metadata": {
        "id": "UTjuKcklFIeC",
        "colab_type": "code",
        "colab": {}
      },
      "source": [
        "init = tf.global_variables_initializer()\n",
        "sess = tf.Session()\n",
        "sess.run(init)\n",
        "writer = tf.summary.FileWriter('./log', sess.graph)"
      ],
      "execution_count": 0,
      "outputs": []
    },
    {
      "cell_type": "code",
      "metadata": {
        "id": "NtTTszN3Ffdl",
        "colab_type": "code",
        "colab": {
          "base_uri": "https://localhost:8080/",
          "height": 867
        },
        "outputId": "bce645a5-fb88-4f42-fb73-e952537dde78"
      },
      "source": [
        "for epoch in range(epochs):\n",
        "  x_batch, _ = mnist.train.next_batch(batch_size)\n",
        "  \n",
        "  z_noise = np.random.uniform(-1., 1., size = [batch_size, z_dim])\n",
        "  _, dis_loss_epoch = sess.run([disopt, disloss], feed_dict = {x_in : x_batch, z_in : z_noise})\n",
        "  _, gen_loss_epoch = sess.run([genopt, genloss], feed_dict = {z_in : z_noise})\n",
        "  dis_summary = sess.run(dis_loss_total, feed_dict = {x_in : x_batch, z_in : z_noise})\n",
        "  writer.add_summary(dis_summary, epoch)\n",
        "  gen_summary = sess.run(gen_loss_total, feed_dict = {z_in : z_noise})\n",
        "  writer.add_summary(gen_summary, epoch)\n",
        "  \n",
        "  if epoch%2000 == 0:\n",
        "    print(\"Step : {0}, Generator loss : {1}, Discriminator loss : {2}\".format(epoch, gen_loss_epoch, dis_loss_epoch))\n",
        "  "
      ],
      "execution_count": 57,
      "outputs": [
        {
          "output_type": "stream",
          "text": [
            "Step : 0, Generator loss : 0.9222623109817505, Discriminator loss : 1.6342556476593018\n",
            "Step : 2000, Generator loss : 5.040018081665039, Discriminator loss : 0.031760308891534805\n",
            "Step : 4000, Generator loss : 3.142970085144043, Discriminator loss : 0.21057060360908508\n",
            "Step : 6000, Generator loss : 2.70530366897583, Discriminator loss : 0.25593897700309753\n",
            "Step : 8000, Generator loss : 2.6952991485595703, Discriminator loss : 0.3454943001270294\n",
            "Step : 10000, Generator loss : 2.8219618797302246, Discriminator loss : 0.42158567905426025\n",
            "Step : 12000, Generator loss : 3.090460777282715, Discriminator loss : 0.3781723380088806\n",
            "Step : 14000, Generator loss : 1.9514832496643066, Discriminator loss : 0.653820812702179\n",
            "Step : 16000, Generator loss : 2.0333380699157715, Discriminator loss : 0.4694124460220337\n",
            "Step : 18000, Generator loss : 2.7299389839172363, Discriminator loss : 0.25618016719818115\n",
            "Step : 20000, Generator loss : 2.536435842514038, Discriminator loss : 0.5204505324363708\n",
            "Step : 22000, Generator loss : 2.4426841735839844, Discriminator loss : 0.4982745051383972\n",
            "Step : 24000, Generator loss : 2.4896717071533203, Discriminator loss : 0.7550800442695618\n",
            "Step : 26000, Generator loss : 2.4776558876037598, Discriminator loss : 0.6478530168533325\n",
            "Step : 28000, Generator loss : 2.310943365097046, Discriminator loss : 0.4912726581096649\n",
            "Step : 30000, Generator loss : 2.0787999629974365, Discriminator loss : 0.6222439408302307\n",
            "Step : 32000, Generator loss : 2.0931620597839355, Discriminator loss : 0.8749561309814453\n",
            "Step : 34000, Generator loss : 1.9069982767105103, Discriminator loss : 0.5820112228393555\n",
            "Step : 36000, Generator loss : 2.0648088455200195, Discriminator loss : 0.6616891622543335\n",
            "Step : 38000, Generator loss : 2.0150582790374756, Discriminator loss : 0.8583484888076782\n",
            "Step : 40000, Generator loss : 2.9278182983398438, Discriminator loss : 0.643808126449585\n",
            "Step : 42000, Generator loss : 2.473310947418213, Discriminator loss : 0.5614182949066162\n",
            "Step : 44000, Generator loss : 1.873116135597229, Discriminator loss : 0.7518173456192017\n",
            "Step : 46000, Generator loss : 1.9472326040267944, Discriminator loss : 0.8257489204406738\n",
            "Step : 48000, Generator loss : 2.592177391052246, Discriminator loss : 0.7375056743621826\n",
            "Step : 50000, Generator loss : 1.9904742240905762, Discriminator loss : 0.8710107803344727\n",
            "Step : 52000, Generator loss : 2.377349376678467, Discriminator loss : 1.0607050657272339\n",
            "Step : 54000, Generator loss : 2.5811126232147217, Discriminator loss : 0.6506156325340271\n",
            "Step : 56000, Generator loss : 2.497304916381836, Discriminator loss : 0.9558665752410889\n",
            "Step : 58000, Generator loss : 1.9975706338882446, Discriminator loss : 0.798639714717865\n",
            "Step : 60000, Generator loss : 2.384950876235962, Discriminator loss : 0.8197357058525085\n",
            "Step : 62000, Generator loss : 2.064101219177246, Discriminator loss : 1.109065055847168\n",
            "Step : 64000, Generator loss : 1.9939372539520264, Discriminator loss : 0.6804434061050415\n",
            "Step : 66000, Generator loss : 2.1612672805786133, Discriminator loss : 0.8447368741035461\n",
            "Step : 68000, Generator loss : 2.5907649993896484, Discriminator loss : 0.9976755976676941\n",
            "Step : 70000, Generator loss : 1.9559261798858643, Discriminator loss : 0.9472559094429016\n",
            "Step : 72000, Generator loss : 2.500710964202881, Discriminator loss : 0.7579131126403809\n",
            "Step : 74000, Generator loss : 2.3424055576324463, Discriminator loss : 1.0144277811050415\n",
            "Step : 76000, Generator loss : 1.8837313652038574, Discriminator loss : 0.9953204393386841\n",
            "Step : 78000, Generator loss : 1.956310510635376, Discriminator loss : 0.844043493270874\n",
            "Step : 80000, Generator loss : 1.996705174446106, Discriminator loss : 1.1440534591674805\n",
            "Step : 82000, Generator loss : 2.069098949432373, Discriminator loss : 0.9323998689651489\n",
            "Step : 84000, Generator loss : 1.9041175842285156, Discriminator loss : 0.8388639688491821\n",
            "Step : 86000, Generator loss : 1.9552065134048462, Discriminator loss : 0.8036159873008728\n",
            "Step : 88000, Generator loss : 2.124638557434082, Discriminator loss : 0.8142446279525757\n",
            "Step : 90000, Generator loss : 2.395620107650757, Discriminator loss : 0.7219356298446655\n",
            "Step : 92000, Generator loss : 2.2171788215637207, Discriminator loss : 0.9620747566223145\n",
            "Step : 94000, Generator loss : 2.226630926132202, Discriminator loss : 1.0459845066070557\n",
            "Step : 96000, Generator loss : 1.9547345638275146, Discriminator loss : 0.7965638637542725\n",
            "Step : 98000, Generator loss : 2.006779193878174, Discriminator loss : 1.1287627220153809\n"
          ],
          "name": "stdout"
        }
      ]
    },
    {
      "cell_type": "markdown",
      "metadata": {
        "id": "6zNeprARSkRl",
        "colab_type": "text"
      },
      "source": [
        "Visualise the output with a $6\\times6$ canvas displaying generated images "
      ]
    },
    {
      "cell_type": "code",
      "metadata": {
        "id": "fnCs3XTFHLjm",
        "colab_type": "code",
        "colab": {
          "base_uri": "https://localhost:8080/",
          "height": 395
        },
        "outputId": "c3a6ed08-3cf7-4aa2-861d-0e7aa9f724d8"
      },
      "source": [
        "n = 6\n",
        "canvas = np.empty((28*n, 28*n))\n",
        "for i in range(n):\n",
        "  z_noise = np.random.uniform(-1., 1., size = [batch_size, z_dim])\n",
        "  g = sess.run(out_gen, feed_dict = {z_in : z_noise})\n",
        "  g = -1*(g - 1)\n",
        "  for j in range(n):\n",
        "    canvas[i*28:(i + 1)*28, j*28:(j+1)*28] = g[j].reshape(28,28)\n",
        "  \n",
        "plt.figure(figsize = (n,n))\n",
        "plt.imshow(canvas, origin= \"upper\", cmap = \"gray\")"
      ],
      "execution_count": 59,
      "outputs": [
        {
          "output_type": "execute_result",
          "data": {
            "text/plain": [
              "<matplotlib.image.AxesImage at 0x7f82939fb898>"
            ]
          },
          "metadata": {
            "tags": []
          },
          "execution_count": 59
        },
        {
          "output_type": "display_data",
          "data": {
            "image/png": "[encoded data removed]",
            "text/plain": [
              "<Figure size 432x432 with 1 Axes>"
            ]
          },
          "metadata": {
            "tags": []
          }
        }
      ]
    }
  ]
}