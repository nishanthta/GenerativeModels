{
  "nbformat": 4,
  "nbformat_minor": 0,
  "metadata": {
    "colab": {
      "name": "FMNIST_C-GAN.ipynb",
      "version": "0.3.2",
      "provenance": []
    },
    "kernelspec": {
      "name": "python3",
      "display_name": "Python 3"
    }
  },
  "cells": [
    {
      "cell_type": "markdown",
      "metadata": {
        "id": "OxR31JlAKSAt",
        "colab_type": "text"
      },
      "source": [
        "# **Conditional Generative Adversarial Network on the MNIST fashion dataset**\n",
        "\n",
        "C-GAN to generate images of footwear with reference to the MNIST Fashion dataset"
      ]
    },
    {
      "cell_type": "markdown",
      "metadata": {
        "id": "4PdaXFE2Kidd",
        "colab_type": "text"
      },
      "source": [
        "Necessary file downloads"
      ]
    },
    {
      "cell_type": "code",
      "metadata": {
        "id": "ClLmyGH0vpYP",
        "colab_type": "code",
        "colab": {
          "base_uri": "https://localhost:8080/",
          "height": 765
        },
        "outputId": "4c7ac874-29e7-48bd-bc07-7f1fb873fe68"
      },
      "source": [
        "!wget http://fashion-mnist.s3-website.eu-central-1.amazonaws.com/train-images-idx3-ubyte.gz\n",
        "!wget http://fashion-mnist.s3-website.eu-central-1.amazonaws.com/train-labels-idx1-ubyte.gz\n",
        "!wget http://fashion-mnist.s3-website.eu-central-1.amazonaws.com/t10k-images-idx3-ubyte.gz\n",
        "!wget http://fashion-mnist.s3-website.eu-central-1.amazonaws.com/t10k-labels-idx1-ubyte.gz"
      ],
      "execution_count": 17,
      "outputs": [
        {
          "output_type": "stream",
          "text": [
            "--2019-06-21 11:13:40--  http://fashion-mnist.s3-website.eu-central-1.amazonaws.com/train-images-idx3-ubyte.gz\n",
            "Resolving fashion-mnist.s3-website.eu-central-1.amazonaws.com (fashion-mnist.s3-website.eu-central-1.amazonaws.com)... 52.219.72.138\n",
            "Connecting to fashion-mnist.s3-website.eu-central-1.amazonaws.com (fashion-mnist.s3-website.eu-central-1.amazonaws.com)|52.219.72.138|:80... connected.\n",
            "HTTP request sent, awaiting response... 200 OK\n",
            "Length: 26421880 (25M) [binary/octet-stream]\n",
            "Saving to: ‘train-images-idx3-ubyte.gz’\n",
            "\n",
            "train-images-idx3-u 100%[===================>]  25.20M  17.0MB/s    in 1.5s    \n",
            "\n",
            "2019-06-21 11:13:42 (17.0 MB/s) - ‘train-images-idx3-ubyte.gz’ saved [26421880/26421880]\n",
            "\n",
            "--2019-06-21 11:13:43--  http://fashion-mnist.s3-website.eu-central-1.amazonaws.com/train-labels-idx1-ubyte.gz\n",
            "Resolving fashion-mnist.s3-website.eu-central-1.amazonaws.com (fashion-mnist.s3-website.eu-central-1.amazonaws.com)... 52.219.72.138\n",
            "Connecting to fashion-mnist.s3-website.eu-central-1.amazonaws.com (fashion-mnist.s3-website.eu-central-1.amazonaws.com)|52.219.72.138|:80... connected.\n",
            "HTTP request sent, awaiting response... 200 OK\n",
            "Length: 29515 (29K) [binary/octet-stream]\n",
            "Saving to: ‘train-labels-idx1-ubyte.gz’\n",
            "\n",
            "train-labels-idx1-u 100%[===================>]  28.82K  --.-KB/s    in 0.1s    \n",
            "\n",
            "2019-06-21 11:13:44 (289 KB/s) - ‘train-labels-idx1-ubyte.gz’ saved [29515/29515]\n",
            "\n",
            "--2019-06-21 11:13:46--  http://fashion-mnist.s3-website.eu-central-1.amazonaws.com/t10k-images-idx3-ubyte.gz\n",
            "Resolving fashion-mnist.s3-website.eu-central-1.amazonaws.com (fashion-mnist.s3-website.eu-central-1.amazonaws.com)... 52.219.73.62\n",
            "Connecting to fashion-mnist.s3-website.eu-central-1.amazonaws.com (fashion-mnist.s3-website.eu-central-1.amazonaws.com)|52.219.73.62|:80... connected.\n",
            "HTTP request sent, awaiting response... 200 OK\n",
            "Length: 4422102 (4.2M) [binary/octet-stream]\n",
            "Saving to: ‘t10k-images-idx3-ubyte.gz’\n",
            "\n",
            "t10k-images-idx3-ub 100%[===================>]   4.22M  5.36MB/s    in 0.8s    \n",
            "\n",
            "2019-06-21 11:13:47 (5.36 MB/s) - ‘t10k-images-idx3-ubyte.gz’ saved [4422102/4422102]\n",
            "\n",
            "--2019-06-21 11:13:48--  http://fashion-mnist.s3-website.eu-central-1.amazonaws.com/t10k-labels-idx1-ubyte.gz\n",
            "Resolving fashion-mnist.s3-website.eu-central-1.amazonaws.com (fashion-mnist.s3-website.eu-central-1.amazonaws.com)... 52.219.73.62\n",
            "Connecting to fashion-mnist.s3-website.eu-central-1.amazonaws.com (fashion-mnist.s3-website.eu-central-1.amazonaws.com)|52.219.73.62|:80... connected.\n",
            "HTTP request sent, awaiting response... 200 OK\n",
            "Length: 5148 (5.0K) [binary/octet-stream]\n",
            "Saving to: ‘t10k-labels-idx1-ubyte.gz’\n",
            "\n",
            "t10k-labels-idx1-ub 100%[===================>]   5.03K  --.-KB/s    in 0s      \n",
            "\n",
            "2019-06-21 11:13:48 (482 MB/s) - ‘t10k-labels-idx1-ubyte.gz’ saved [5148/5148]\n",
            "\n"
          ],
          "name": "stdout"
        }
      ]
    },
    {
      "cell_type": "code",
      "metadata": {
        "id": "nq06HKf6wlVS",
        "colab_type": "code",
        "colab": {
          "base_uri": "https://localhost:8080/",
          "height": 34
        },
        "outputId": "4587356c-f0e7-42f2-de65-5fad1bfed682"
      },
      "source": [
        "!mkdir mnist_fashion\n",
        "!cp *.gz mnist_fashion/"
      ],
      "execution_count": 18,
      "outputs": [
        {
          "output_type": "stream",
          "text": [
            "mkdir: cannot create directory ‘mnist_fashion’: File exists\n"
          ],
          "name": "stdout"
        }
      ]
    },
    {
      "cell_type": "code",
      "metadata": {
        "id": "2BY9JfZJxLSx",
        "colab_type": "code",
        "colab": {
          "base_uri": "https://localhost:8080/",
          "height": 156
        },
        "outputId": "f201c0f9-2dc9-46c8-81a4-08d8e533c549"
      },
      "source": [
        "from tensorflow.examples.tutorials.mnist import input_data\n",
        "mnist = input_data.read_data_sets('mnist_fashion/', one_hot = True)"
      ],
      "execution_count": 63,
      "outputs": [
        {
          "output_type": "stream",
          "text": [
            "Extracting mnist_fashion/train-images-idx3-ubyte.gz\n"
          ],
          "name": "stdout"
        },
        {
          "output_type": "stream",
          "text": [
            "W0621 13:54:19.184975 140200076445568 deprecation.py:323] From /usr/local/lib/python3.6/dist-packages/tensorflow/contrib/learn/python/learn/datasets/mnist.py:110: dense_to_one_hot (from tensorflow.contrib.learn.python.learn.datasets.mnist) is deprecated and will be removed in a future version.\n",
            "Instructions for updating:\n",
            "Please use tf.one_hot on tensors.\n"
          ],
          "name": "stderr"
        },
        {
          "output_type": "stream",
          "text": [
            "Extracting mnist_fashion/train-labels-idx1-ubyte.gz\n",
            "Extracting mnist_fashion/t10k-images-idx3-ubyte.gz\n",
            "Extracting mnist_fashion/t10k-labels-idx1-ubyte.gz\n"
          ],
          "name": "stdout"
        }
      ]
    },
    {
      "cell_type": "markdown",
      "metadata": {
        "id": "6koLXdAvKsBI",
        "colab_type": "text"
      },
      "source": [
        "**Hyperparameters**\n",
        "\n",
        "1.   lr : Learning rate set to 0.0002 for the Adam optimizer\n",
        "2.   epochs : Number of training epochs\n",
        "3.   batch_size : batch size\n",
        "3.   image_dim : Dimension of flattened $28*28$ MNIST fashion image\n",
        "4.   gen_dim : Dimension of Generator hidden layer\n",
        "5.   dis_dim : Dimension of Discriminator hidden layer\n",
        "7.   z_dim : Dimension of Generator noise\n",
        "8.   lab_dim : Number of labels in the MNIST fashion dataset"
      ]
    },
    {
      "cell_type": "code",
      "metadata": {
        "id": "W423epp7xXUP",
        "colab_type": "code",
        "colab": {}
      },
      "source": [
        "lr = 2e-4\n",
        "batch_size = 128\n",
        "epochs = 100000\n",
        "image_dim = 784\n",
        "gen_dim = 256\n",
        "dis_dim = 256\n",
        "z_dim = 100\n",
        "lab_dim = 10"
      ],
      "execution_count": 0,
      "outputs": []
    },
    {
      "cell_type": "code",
      "metadata": {
        "id": "lDN5WXrKVOOe",
        "colab_type": "code",
        "colab": {
          "base_uri": "https://localhost:8080/",
          "height": 34
        },
        "outputId": "2d9917de-ccf9-46f9-d097-a502725f5d72"
      },
      "source": [
        "mnist.train.labels.shape"
      ],
      "execution_count": 66,
      "outputs": [
        {
          "output_type": "execute_result",
          "data": {
            "text/plain": [
              "(55000, 10)"
            ]
          },
          "metadata": {
            "tags": []
          },
          "execution_count": 66
        }
      ]
    },
    {
      "cell_type": "markdown",
      "metadata": {
        "id": "zWPkq4kkLOjY",
        "colab_type": "text"
      },
      "source": [
        "Xavier initialization, given by $1/{\\sqrt{\\frac{n}{2}}}$ where $n$ represents input dimension"
      ]
    },
    {
      "cell_type": "code",
      "metadata": {
        "id": "pk42DTFBx4Qe",
        "colab_type": "code",
        "colab": {}
      },
      "source": [
        "def Xavier(in_shape):\n",
        "  return tf.random_normal(shape = in_shape, stddev = 1./tf.sqrt(in_shape[0]/2.))"
      ],
      "execution_count": 0,
      "outputs": []
    },
    {
      "cell_type": "markdown",
      "metadata": {
        "id": "Up5X3JenLQSx",
        "colab_type": "text"
      },
      "source": [
        "Essential weights and biases"
      ]
    },
    {
      "cell_type": "code",
      "metadata": {
        "id": "EzplUo6Kx4rs",
        "colab_type": "code",
        "colab": {}
      },
      "source": [
        "import tensorflow as tf\n",
        "import numpy as np\n",
        "import matplotlib.pyplot as plt\n",
        "weights = {\n",
        "    'dis_h' : tf.Variable(Xavier([image_dim + lab_dim, dis_dim])),\n",
        "    'dis_final' : tf.Variable(Xavier([dis_dim, 1])),\n",
        "    'gen_h' : tf.Variable(Xavier([z_dim + lab_dim, gen_dim])),\n",
        "    'gen_final' : tf.Variable(Xavier([gen_dim, image_dim]))\n",
        "}\n",
        "bias = {\n",
        "    'dis_h' : tf.Variable(Xavier([dis_dim])),\n",
        "    'dis_final' : tf.Variable(Xavier([1])),\n",
        "    'gen_h' : tf.Variable(Xavier([gen_dim])),\n",
        "    'gen_final' : tf.Variable(Xavier([image_dim]))\n",
        "}"
      ],
      "execution_count": 0,
      "outputs": []
    },
    {
      "cell_type": "markdown",
      "metadata": {
        "id": "2dF5n4o-LUG8",
        "colab_type": "text"
      },
      "source": [
        "We define the discriminator as a simple hidden layer FC network, with the input as a concatenation of the image and its corresponding label "
      ]
    },
    {
      "cell_type": "code",
      "metadata": {
        "id": "Bu5XYvnAzHNh",
        "colab_type": "code",
        "colab": {}
      },
      "source": [
        "def Discriminator(inp,y):\n",
        "  x = tf.concat(axis = 1, values = [inp,y])\n",
        "  hidden = tf.nn.relu(tf.add(tf.matmul(x, weights['dis_h']), bias['dis_h']))\n",
        "  final = tf.add(tf.matmul(hidden, weights['dis_final']), bias['dis_final'])\n",
        "  out = tf.nn.sigmoid(final)\n",
        "  return final, out"
      ],
      "execution_count": 0,
      "outputs": []
    },
    {
      "cell_type": "markdown",
      "metadata": {
        "id": "eWky6NsALqoS",
        "colab_type": "text"
      },
      "source": [
        "We define the Generator as a simple hidden layer FC network with the output dimension the same as the image dimension we wish to generate"
      ]
    },
    {
      "cell_type": "code",
      "metadata": {
        "id": "A2-FUTOXz2Xw",
        "colab_type": "code",
        "colab": {}
      },
      "source": [
        "def Generator(inp, y):\n",
        "  x = tf.concat(axis = 1, values = [inp,y])\n",
        "  hidden = tf.nn.relu(tf.add(tf.matmul(x, weights['gen_h']), bias['gen_h']))\n",
        "  final = tf.add(tf.matmul(hidden, weights['gen_final']), bias['gen_final'])\n",
        "  out = tf.nn.sigmoid(final)\n",
        "  return out"
      ],
      "execution_count": 0,
      "outputs": []
    },
    {
      "cell_type": "markdown",
      "metadata": {
        "id": "KoP43RCVLyWQ",
        "colab_type": "text"
      },
      "source": [
        "Define the noise, input and label placeholders respectively"
      ]
    },
    {
      "cell_type": "code",
      "metadata": {
        "id": "807vuf120FPk",
        "colab_type": "code",
        "colab": {}
      },
      "source": [
        "z_in = tf.placeholder(tf.float32, shape = [None, z_dim], name = 'noise')\n",
        "x_in = tf.placeholder(tf.float32, shape = [None, image_dim], name = 'input')\n",
        "y_in = tf.placeholder(tf.float32, shape = [None, lab_dim], name = 'labels')"
      ],
      "execution_count": 0,
      "outputs": []
    },
    {
      "cell_type": "code",
      "metadata": {
        "id": "kexkkVBP9F9Q",
        "colab_type": "code",
        "colab": {}
      },
      "source": [
        "with tf.name_scope(\"Generator\") as scope:\n",
        "  out_gen = Generator(z_in, y_in)\n",
        "with tf.name_scope(\"Discriminator\") as scope:\n",
        "  real_temp_dis, real_dis = Discriminator(x_in, y_in)\n",
        "  fake_temp_dis, fake_dis = Discriminator(out_gen, y_in)"
      ],
      "execution_count": 0,
      "outputs": []
    },
    {
      "cell_type": "markdown",
      "metadata": {
        "id": "lb7q2vlcMJzF",
        "colab_type": "text"
      },
      "source": [
        "The discriminator and the generator loss functions are defined as follows\n",
        "\n",
        "$L_d = \\log{(D(x))} + \\log{(1 - D(G(z)))}$ \n",
        "\n",
        "$L_g = \\log{(D(G(z)))}$"
      ]
    },
    {
      "cell_type": "code",
      "metadata": {
        "id": "7M3DLBVeAn1r",
        "colab_type": "code",
        "colab": {}
      },
      "source": [
        "eps = 1e-5\n",
        "with tf.name_scope(\"Dis_loss\") as scope:\n",
        "  disloss = -tf.reduce_mean(tf.log(real_dis + eps) + tf.log(1 - fake_dis + eps))\n",
        "with tf.name_scope(\"Gen_loss\") as scope:\n",
        "  genloss = -tf.reduce_mean(tf.log(fake_dis + eps))\n",
        "\n",
        "dis_loss_total = tf.summary.scalar(\"dis_total_loss\", disloss)\n",
        "gen_loss_total = tf.summary.scalar(\"gen_total_loss\", genloss)"
      ],
      "execution_count": 0,
      "outputs": []
    },
    {
      "cell_type": "code",
      "metadata": {
        "id": "Ibhy8d6vCALa",
        "colab_type": "code",
        "colab": {}
      },
      "source": [
        "gen_var = [weights['gen_h'], weights['gen_final'], bias['gen_h'], bias['gen_final']]\n",
        "dis_var = [weights['dis_h'], weights['dis_final'], bias['dis_h'], bias['dis_final']]"
      ],
      "execution_count": 0,
      "outputs": []
    },
    {
      "cell_type": "markdown",
      "metadata": {
        "id": "SkI3eb7RNADe",
        "colab_type": "text"
      },
      "source": [
        "Optimize the parameters of the adversarial networks separately"
      ]
    },
    {
      "cell_type": "code",
      "metadata": {
        "id": "karyJM2NEehp",
        "colab_type": "code",
        "colab": {}
      },
      "source": [
        "with tf.name_scope(\"opt_dis\") as scope:\n",
        "  disopt = tf.train.AdamOptimizer(learning_rate = lr).minimize(disloss, var_list = dis_var)\n",
        "with tf.name_scope(\"opt_gen\") as scope:\n",
        "  genopt = tf.train.AdamOptimizer(learning_rate = lr).minimize(genloss, var_list = gen_var)"
      ],
      "execution_count": 0,
      "outputs": []
    },
    {
      "cell_type": "code",
      "metadata": {
        "id": "UTjuKcklFIeC",
        "colab_type": "code",
        "colab": {}
      },
      "source": [
        "init = tf.global_variables_initializer()\n",
        "sess = tf.Session()\n",
        "sess.run(init)\n",
        "writer = tf.summary.FileWriter('./log', sess.graph)"
      ],
      "execution_count": 0,
      "outputs": []
    },
    {
      "cell_type": "code",
      "metadata": {
        "id": "NtTTszN3Ffdl",
        "colab_type": "code",
        "colab": {
          "base_uri": "https://localhost:8080/",
          "height": 867
        },
        "outputId": "5256aadd-02ab-4432-9b90-17be07526efa"
      },
      "source": [
        "for epoch in range(epochs):\n",
        "  x_batch, y_batch = mnist.train.next_batch(batch_size)\n",
        "  \n",
        "  z_noise = np.random.uniform(-1., 1., size = [batch_size, z_dim])\n",
        "  _, dis_loss_epoch = sess.run([disopt, disloss], feed_dict = {x_in : x_batch, z_in : z_noise, y_in : y_batch})\n",
        "  _, gen_loss_epoch = sess.run([genopt, genloss], feed_dict = {z_in : z_noise, y_in : y_batch})\n",
        "  dis_summary = sess.run(dis_loss_total, feed_dict = {x_in : x_batch, z_in : z_noise, y_in : y_batch})\n",
        "  writer.add_summary(dis_summary, epoch)\n",
        "  gen_summary = sess.run(gen_loss_total, feed_dict = {z_in : z_noise, y_in : y_batch})\n",
        "  writer.add_summary(gen_summary, epoch)\n",
        "  \n",
        "  if epoch%2000 == 0:\n",
        "    print(\"Step : {0}, Generator loss : {1}, Discriminator loss : {2}\".format(epoch, gen_loss_epoch, dis_loss_epoch))\n",
        "  "
      ],
      "execution_count": 84,
      "outputs": [
        {
          "output_type": "stream",
          "text": [
            "Step : 0, Generator loss : 0.38625970482826233, Discriminator loss : 2.075226306915283\n",
            "Step : 2000, Generator loss : 6.005610466003418, Discriminator loss : 0.02016809955239296\n",
            "Step : 4000, Generator loss : 4.00145149230957, Discriminator loss : 0.16196420788764954\n",
            "Step : 6000, Generator loss : 3.61458683013916, Discriminator loss : 0.2306489646434784\n",
            "Step : 8000, Generator loss : 4.829440116882324, Discriminator loss : 0.18378674983978271\n",
            "Step : 10000, Generator loss : 3.080716133117676, Discriminator loss : 0.3623693585395813\n",
            "Step : 12000, Generator loss : 4.414306640625, Discriminator loss : 0.3189312815666199\n",
            "Step : 14000, Generator loss : 3.9273455142974854, Discriminator loss : 0.26803240180015564\n",
            "Step : 16000, Generator loss : 3.8553659915924072, Discriminator loss : 0.42481592297554016\n",
            "Step : 18000, Generator loss : 2.880239486694336, Discriminator loss : 0.5083613395690918\n",
            "Step : 20000, Generator loss : 2.859682321548462, Discriminator loss : 0.5615246295928955\n",
            "Step : 22000, Generator loss : 2.47175931930542, Discriminator loss : 0.5888957381248474\n",
            "Step : 24000, Generator loss : 2.311086654663086, Discriminator loss : 0.5149826407432556\n",
            "Step : 26000, Generator loss : 2.510739803314209, Discriminator loss : 0.5890030860900879\n",
            "Step : 28000, Generator loss : 1.9027314186096191, Discriminator loss : 0.7312203645706177\n",
            "Step : 30000, Generator loss : 2.092738151550293, Discriminator loss : 0.662979006767273\n",
            "Step : 32000, Generator loss : 2.014248847961426, Discriminator loss : 0.7673535346984863\n",
            "Step : 34000, Generator loss : 1.9399101734161377, Discriminator loss : 0.715003490447998\n",
            "Step : 36000, Generator loss : 1.8779449462890625, Discriminator loss : 0.6689536571502686\n",
            "Step : 38000, Generator loss : 2.389564037322998, Discriminator loss : 0.8343223333358765\n",
            "Step : 40000, Generator loss : 2.2641468048095703, Discriminator loss : 0.8146600723266602\n",
            "Step : 42000, Generator loss : 2.0368902683258057, Discriminator loss : 0.8837485313415527\n",
            "Step : 44000, Generator loss : 2.406067371368408, Discriminator loss : 0.9352428913116455\n",
            "Step : 46000, Generator loss : 1.9328460693359375, Discriminator loss : 1.0393807888031006\n",
            "Step : 48000, Generator loss : 2.3166370391845703, Discriminator loss : 1.0944420099258423\n",
            "Step : 50000, Generator loss : 1.9200315475463867, Discriminator loss : 0.9343950152397156\n",
            "Step : 52000, Generator loss : 2.1995468139648438, Discriminator loss : 1.0334542989730835\n",
            "Step : 54000, Generator loss : 1.7902629375457764, Discriminator loss : 0.9303455352783203\n",
            "Step : 56000, Generator loss : 1.788160800933838, Discriminator loss : 1.0091736316680908\n",
            "Step : 58000, Generator loss : 2.136157512664795, Discriminator loss : 0.8597562909126282\n",
            "Step : 60000, Generator loss : 1.6284830570220947, Discriminator loss : 1.1878899335861206\n",
            "Step : 62000, Generator loss : 1.7493816614151, Discriminator loss : 1.243377685546875\n",
            "Step : 64000, Generator loss : 2.0418970584869385, Discriminator loss : 1.0606282949447632\n",
            "Step : 66000, Generator loss : 2.2912094593048096, Discriminator loss : 1.2485865354537964\n",
            "Step : 68000, Generator loss : 1.5658185482025146, Discriminator loss : 1.05527663230896\n",
            "Step : 70000, Generator loss : 1.9210643768310547, Discriminator loss : 1.4273262023925781\n",
            "Step : 72000, Generator loss : 1.8418898582458496, Discriminator loss : 1.155167579650879\n",
            "Step : 74000, Generator loss : 2.4587326049804688, Discriminator loss : 1.0997843742370605\n",
            "Step : 76000, Generator loss : 1.8284320831298828, Discriminator loss : 1.2856643199920654\n",
            "Step : 78000, Generator loss : 1.7156548500061035, Discriminator loss : 1.2269964218139648\n",
            "Step : 80000, Generator loss : 1.9248080253601074, Discriminator loss : 1.0396320819854736\n",
            "Step : 82000, Generator loss : 2.130629777908325, Discriminator loss : 1.1918221712112427\n",
            "Step : 84000, Generator loss : 1.9192296266555786, Discriminator loss : 1.1420676708221436\n",
            "Step : 86000, Generator loss : 1.6127394437789917, Discriminator loss : 1.3550487756729126\n",
            "Step : 88000, Generator loss : 1.7920928001403809, Discriminator loss : 1.1893022060394287\n",
            "Step : 90000, Generator loss : 1.872128963470459, Discriminator loss : 0.9682797789573669\n",
            "Step : 92000, Generator loss : 1.74012291431427, Discriminator loss : 1.0912504196166992\n",
            "Step : 94000, Generator loss : 2.133942127227783, Discriminator loss : 1.0335932970046997\n",
            "Step : 96000, Generator loss : 1.6648001670837402, Discriminator loss : 1.2037057876586914\n",
            "Step : 98000, Generator loss : 1.583916187286377, Discriminator loss : 1.2682769298553467\n"
          ],
          "name": "stdout"
        }
      ]
    },
    {
      "cell_type": "markdown",
      "metadata": {
        "id": "6zNeprARSkRl",
        "colab_type": "text"
      },
      "source": [
        "Visualise the output with a $6\\times6$ canvas displaying generated images with an assigned condition label = $5$ (generates shoes)"
      ]
    },
    {
      "cell_type": "code",
      "metadata": {
        "id": "fnCs3XTFHLjm",
        "colab_type": "code",
        "colab": {
          "base_uri": "https://localhost:8080/",
          "height": 395
        },
        "outputId": "f62625d4-8381-4c8b-b785-9a42f1154393"
      },
      "source": [
        "n = 6\n",
        "canvas = np.empty((28*n, 28*n))\n",
        "for i in range(n):\n",
        "  z_noise = np.random.uniform(-1., 1., size = [batch_size, z_dim])\n",
        "  tmp_labels = np.zeros((batch_size), dtype = int) + 5\n",
        "  labels = np.eye(10)[tmp_labels]\n",
        "  g = sess.run(out_gen, feed_dict = {z_in : z_noise, y_in : labels})\n",
        "  g = -1*(g - 1)\n",
        "  for j in range(n):\n",
        "    canvas[i*28:(i + 1)*28, j*28:(j+1)*28] = g[j].reshape(28,28)\n",
        "  \n",
        "plt.figure(figsize = (n,n))\n",
        "plt.imshow(canvas, origin= \"upper\", cmap = \"gray\")"
      ],
      "execution_count": 93,
      "outputs": [
        {
          "output_type": "execute_result",
          "data": {
            "text/plain": [
              "<matplotlib.image.AxesImage at 0x7f828f79b780>"
            ]
          },
          "metadata": {
            "tags": []
          },
          "execution_count": 93
        },
        {
          "output_type": "display_data",
          "data": {
            "image/png": "[encoded data removed]",
            "text/plain": [
              "<Figure size 432x432 with 1 Axes>"
            ]
          },
          "metadata": {
            "tags": []
          }
        }
      ]
    },
    {
      "cell_type": "code",
      "metadata": {
        "id": "u6tE7AGTXeNz",
        "colab_type": "code",
        "colab": {}
      },
      "source": [
        ""
      ],
      "execution_count": 0,
      "outputs": []
    }
  ]
}