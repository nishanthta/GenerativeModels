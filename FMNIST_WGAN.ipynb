{
  "nbformat": 4,
  "nbformat_minor": 0,
  "metadata": {
    "colab": {
      "name": "FMNIST_WGAN.ipynb",
      "version": "0.3.2",
      "provenance": []
    },
    "kernelspec": {
      "name": "python3",
      "display_name": "Python 3"
    }
  },
  "cells": [
    {
      "cell_type": "markdown",
      "metadata": {
        "id": "OxR31JlAKSAt",
        "colab_type": "text"
      },
      "source": [
        "# **Wasserstein Generative Adversarial Network on the MNIST fashion dataset**\n",
        "\n",
        "W-GAN trained to approximate the distribution of the MNIST fashion dataset"
      ]
    },
    {
      "cell_type": "markdown",
      "metadata": {
        "id": "4PdaXFE2Kidd",
        "colab_type": "text"
      },
      "source": [
        "Necessary file downloads"
      ]
    },
    {
      "cell_type": "code",
      "metadata": {
        "id": "ClLmyGH0vpYP",
        "colab_type": "code",
        "outputId": "0c7c45bc-72fe-422e-b5e2-4f7d22f2cb98",
        "colab": {
          "base_uri": "https://localhost:8080/",
          "height": 765
        }
      },
      "source": [
        "!wget http://fashion-mnist.s3-website.eu-central-1.amazonaws.com/train-images-idx3-ubyte.gz\n",
        "!wget http://fashion-mnist.s3-website.eu-central-1.amazonaws.com/train-labels-idx1-ubyte.gz\n",
        "!wget http://fashion-mnist.s3-website.eu-central-1.amazonaws.com/t10k-images-idx3-ubyte.gz\n",
        "!wget http://fashion-mnist.s3-website.eu-central-1.amazonaws.com/t10k-labels-idx1-ubyte.gz"
      ],
      "execution_count": 1,
      "outputs": [
        {
          "output_type": "stream",
          "text": [
            "--2019-06-22 05:32:32--  http://fashion-mnist.s3-website.eu-central-1.amazonaws.com/train-images-idx3-ubyte.gz\n",
            "Resolving fashion-mnist.s3-website.eu-central-1.amazonaws.com (fashion-mnist.s3-website.eu-central-1.amazonaws.com)... 52.219.74.126\n",
            "Connecting to fashion-mnist.s3-website.eu-central-1.amazonaws.com (fashion-mnist.s3-website.eu-central-1.amazonaws.com)|52.219.74.126|:80... connected.\n",
            "HTTP request sent, awaiting response... 200 OK\n",
            "Length: 26421880 (25M) [binary/octet-stream]\n",
            "Saving to: ‘train-images-idx3-ubyte.gz’\n",
            "\n",
            "train-images-idx3-u 100%[===================>]  25.20M  11.6MB/s    in 2.2s    \n",
            "\n",
            "2019-06-22 05:32:35 (11.6 MB/s) - ‘train-images-idx3-ubyte.gz’ saved [26421880/26421880]\n",
            "\n",
            "--2019-06-22 05:32:36--  http://fashion-mnist.s3-website.eu-central-1.amazonaws.com/train-labels-idx1-ubyte.gz\n",
            "Resolving fashion-mnist.s3-website.eu-central-1.amazonaws.com (fashion-mnist.s3-website.eu-central-1.amazonaws.com)... 52.219.74.138\n",
            "Connecting to fashion-mnist.s3-website.eu-central-1.amazonaws.com (fashion-mnist.s3-website.eu-central-1.amazonaws.com)|52.219.74.138|:80... connected.\n",
            "HTTP request sent, awaiting response... 200 OK\n",
            "Length: 29515 (29K) [binary/octet-stream]\n",
            "Saving to: ‘train-labels-idx1-ubyte.gz’\n",
            "\n",
            "train-labels-idx1-u 100%[===================>]  28.82K  --.-KB/s    in 0.1s    \n",
            "\n",
            "2019-06-22 05:32:36 (201 KB/s) - ‘train-labels-idx1-ubyte.gz’ saved [29515/29515]\n",
            "\n",
            "--2019-06-22 05:32:38--  http://fashion-mnist.s3-website.eu-central-1.amazonaws.com/t10k-images-idx3-ubyte.gz\n",
            "Resolving fashion-mnist.s3-website.eu-central-1.amazonaws.com (fashion-mnist.s3-website.eu-central-1.amazonaws.com)... 52.219.74.138\n",
            "Connecting to fashion-mnist.s3-website.eu-central-1.amazonaws.com (fashion-mnist.s3-website.eu-central-1.amazonaws.com)|52.219.74.138|:80... connected.\n",
            "HTTP request sent, awaiting response... 200 OK\n",
            "Length: 4422102 (4.2M) [binary/octet-stream]\n",
            "Saving to: ‘t10k-images-idx3-ubyte.gz’\n",
            "\n",
            "t10k-images-idx3-ub 100%[===================>]   4.22M  3.82MB/s    in 1.1s    \n",
            "\n",
            "2019-06-22 05:32:40 (3.82 MB/s) - ‘t10k-images-idx3-ubyte.gz’ saved [4422102/4422102]\n",
            "\n",
            "--2019-06-22 05:32:41--  http://fashion-mnist.s3-website.eu-central-1.amazonaws.com/t10k-labels-idx1-ubyte.gz\n",
            "Resolving fashion-mnist.s3-website.eu-central-1.amazonaws.com (fashion-mnist.s3-website.eu-central-1.amazonaws.com)... 52.219.74.118\n",
            "Connecting to fashion-mnist.s3-website.eu-central-1.amazonaws.com (fashion-mnist.s3-website.eu-central-1.amazonaws.com)|52.219.74.118|:80... connected.\n",
            "HTTP request sent, awaiting response... 200 OK\n",
            "Length: 5148 (5.0K) [binary/octet-stream]\n",
            "Saving to: ‘t10k-labels-idx1-ubyte.gz’\n",
            "\n",
            "t10k-labels-idx1-ub 100%[===================>]   5.03K  --.-KB/s    in 0s      \n",
            "\n",
            "2019-06-22 05:32:42 (48.3 MB/s) - ‘t10k-labels-idx1-ubyte.gz’ saved [5148/5148]\n",
            "\n"
          ],
          "name": "stdout"
        }
      ]
    },
    {
      "cell_type": "code",
      "metadata": {
        "id": "nq06HKf6wlVS",
        "colab_type": "code",
        "colab": {}
      },
      "source": [
        "!mkdir mnist_fashion\n",
        "!cp *.gz mnist_fashion/"
      ],
      "execution_count": 0,
      "outputs": []
    },
    {
      "cell_type": "code",
      "metadata": {
        "id": "2BY9JfZJxLSx",
        "colab_type": "code",
        "outputId": "3c8ed3c0-d366-4185-a22a-6eb53a40f3b7",
        "colab": {
          "base_uri": "https://localhost:8080/",
          "height": 377
        }
      },
      "source": [
        "from tensorflow.examples.tutorials.mnist import input_data\n",
        "mnist = input_data.read_data_sets('mnist_fashion/')"
      ],
      "execution_count": 3,
      "outputs": [
        {
          "output_type": "stream",
          "text": [
            "WARNING: Logging before flag parsing goes to stderr.\n",
            "W0622 05:32:54.447988 140461342128000 deprecation.py:323] From <ipython-input-3-ecda65ec00a1>:2: read_data_sets (from tensorflow.contrib.learn.python.learn.datasets.mnist) is deprecated and will be removed in a future version.\n",
            "Instructions for updating:\n",
            "Please use alternatives such as official/mnist/dataset.py from tensorflow/models.\n",
            "W0622 05:32:54.449774 140461342128000 deprecation.py:323] From /usr/local/lib/python3.6/dist-packages/tensorflow/contrib/learn/python/learn/datasets/mnist.py:260: maybe_download (from tensorflow.contrib.learn.python.learn.datasets.base) is deprecated and will be removed in a future version.\n",
            "Instructions for updating:\n",
            "Please write your own downloading logic.\n",
            "W0622 05:32:54.451808 140461342128000 deprecation.py:323] From /usr/local/lib/python3.6/dist-packages/tensorflow/contrib/learn/python/learn/datasets/mnist.py:262: extract_images (from tensorflow.contrib.learn.python.learn.datasets.mnist) is deprecated and will be removed in a future version.\n",
            "Instructions for updating:\n",
            "Please use tf.data to implement this functionality.\n"
          ],
          "name": "stderr"
        },
        {
          "output_type": "stream",
          "text": [
            "Extracting mnist_fashion/train-images-idx3-ubyte.gz\n"
          ],
          "name": "stdout"
        },
        {
          "output_type": "stream",
          "text": [
            "W0622 05:32:54.828689 140461342128000 deprecation.py:323] From /usr/local/lib/python3.6/dist-packages/tensorflow/contrib/learn/python/learn/datasets/mnist.py:267: extract_labels (from tensorflow.contrib.learn.python.learn.datasets.mnist) is deprecated and will be removed in a future version.\n",
            "Instructions for updating:\n",
            "Please use tf.data to implement this functionality.\n",
            "W0622 05:32:54.897575 140461342128000 deprecation.py:323] From /usr/local/lib/python3.6/dist-packages/tensorflow/contrib/learn/python/learn/datasets/mnist.py:290: DataSet.__init__ (from tensorflow.contrib.learn.python.learn.datasets.mnist) is deprecated and will be removed in a future version.\n",
            "Instructions for updating:\n",
            "Please use alternatives such as official/mnist/dataset.py from tensorflow/models.\n"
          ],
          "name": "stderr"
        },
        {
          "output_type": "stream",
          "text": [
            "Extracting mnist_fashion/train-labels-idx1-ubyte.gz\n",
            "Extracting mnist_fashion/t10k-images-idx3-ubyte.gz\n",
            "Extracting mnist_fashion/t10k-labels-idx1-ubyte.gz\n"
          ],
          "name": "stdout"
        }
      ]
    },
    {
      "cell_type": "markdown",
      "metadata": {
        "id": "6koLXdAvKsBI",
        "colab_type": "text"
      },
      "source": [
        "**Hyperparameters**\n",
        "\n",
        "1.   lr : Learning rate set to 0.0002 for the Adam optimizer\n",
        "2.   epochs : Number of training epochs\n",
        "3.   batch_size : batch size\n",
        "3.   image_dim : Dimension of flattened $28*28$ MNIST fashion image\n",
        "4.   gen_dim : Dimension of Generator hidden layer\n",
        "5.   dis_dim : Dimension of Discriminator hidden layer\n",
        "7.   z_dim : Dimension of Generator noise\n"
      ]
    },
    {
      "cell_type": "code",
      "metadata": {
        "id": "W423epp7xXUP",
        "colab_type": "code",
        "colab": {}
      },
      "source": [
        "lr = 2e-4\n",
        "batch_size = 128\n",
        "epochs = 100000\n",
        "image_dim = 784\n",
        "gen_dim = 256\n",
        "dis_dim = 256\n",
        "z_dim = 100"
      ],
      "execution_count": 0,
      "outputs": []
    },
    {
      "cell_type": "markdown",
      "metadata": {
        "id": "zWPkq4kkLOjY",
        "colab_type": "text"
      },
      "source": [
        "Xavier initialization, given by $1/{\\sqrt{\\frac{n}{2}}}$ where $n$ represents input dimension"
      ]
    },
    {
      "cell_type": "code",
      "metadata": {
        "id": "pk42DTFBx4Qe",
        "colab_type": "code",
        "colab": {}
      },
      "source": [
        "def Xavier(in_shape):\n",
        "  return tf.random_normal(shape = in_shape, stddev = 1./tf.sqrt(in_shape[0]/2.))"
      ],
      "execution_count": 0,
      "outputs": []
    },
    {
      "cell_type": "markdown",
      "metadata": {
        "id": "Up5X3JenLQSx",
        "colab_type": "text"
      },
      "source": [
        "Essential weights and biases"
      ]
    },
    {
      "cell_type": "code",
      "metadata": {
        "id": "EzplUo6Kx4rs",
        "colab_type": "code",
        "colab": {}
      },
      "source": [
        "import tensorflow as tf\n",
        "import numpy as np\n",
        "import matplotlib.pyplot as plt\n",
        "weights = {\n",
        "    'dis_h' : tf.Variable(Xavier([image_dim, dis_dim])),\n",
        "    'dis_final' : tf.Variable(Xavier([dis_dim, 1])),\n",
        "    'gen_h' : tf.Variable(Xavier([z_dim, gen_dim])),\n",
        "    'gen_final' : tf.Variable(Xavier([gen_dim, image_dim]))\n",
        "}\n",
        "bias = {\n",
        "    'dis_h' : tf.Variable(Xavier([dis_dim])),\n",
        "    'dis_final' : tf.Variable(Xavier([1])),\n",
        "    'gen_h' : tf.Variable(Xavier([gen_dim])),\n",
        "    'gen_final' : tf.Variable(Xavier([image_dim]))\n",
        "}"
      ],
      "execution_count": 0,
      "outputs": []
    },
    {
      "cell_type": "markdown",
      "metadata": {
        "id": "2dF5n4o-LUG8",
        "colab_type": "text"
      },
      "source": [
        "Unlike a regular GAN, the discriminator now acts as a critic to compute and compare the Wasserstein distance"
      ]
    },
    {
      "cell_type": "code",
      "metadata": {
        "id": "Bu5XYvnAzHNh",
        "colab_type": "code",
        "colab": {}
      },
      "source": [
        "def Discriminator(x):\n",
        "  hidden = tf.nn.relu(tf.add(tf.matmul(x, weights['dis_h']), bias['dis_h']))\n",
        "  final = tf.add(tf.matmul(hidden, weights['dis_final']), bias['dis_final'])\n",
        "  return (final)"
      ],
      "execution_count": 0,
      "outputs": []
    },
    {
      "cell_type": "markdown",
      "metadata": {
        "id": "eWky6NsALqoS",
        "colab_type": "text"
      },
      "source": [
        "We define the Generator as a simple hidden layer FC network with the output dimension the same as the image dimension we wish to generate"
      ]
    },
    {
      "cell_type": "code",
      "metadata": {
        "id": "A2-FUTOXz2Xw",
        "colab_type": "code",
        "colab": {}
      },
      "source": [
        "def Generator(x):\n",
        "  hidden = tf.nn.relu(tf.add(tf.matmul(x, weights['gen_h']), bias['gen_h']))\n",
        "  final = tf.add(tf.matmul(hidden, weights['gen_final']), bias['gen_final'])\n",
        "  out = tf.nn.sigmoid(final)\n",
        "  return out"
      ],
      "execution_count": 0,
      "outputs": []
    },
    {
      "cell_type": "markdown",
      "metadata": {
        "id": "KoP43RCVLyWQ",
        "colab_type": "text"
      },
      "source": [
        "Define the noise and input placeholders respectively"
      ]
    },
    {
      "cell_type": "code",
      "metadata": {
        "id": "807vuf120FPk",
        "colab_type": "code",
        "colab": {}
      },
      "source": [
        "z_in = tf.placeholder(tf.float32, shape = [None, z_dim], name = 'noise')\n",
        "x_in = tf.placeholder(tf.float32, shape = [None, image_dim], name = 'input')"
      ],
      "execution_count": 0,
      "outputs": []
    },
    {
      "cell_type": "code",
      "metadata": {
        "id": "kexkkVBP9F9Q",
        "colab_type": "code",
        "colab": {}
      },
      "source": [
        "with tf.name_scope(\"Generator\") as scope:\n",
        "  out_gen = Generator(z_in)\n",
        "with tf.name_scope(\"Discriminator\") as scope:\n",
        "  real_dis = Discriminator(x_in)\n",
        "  fake_dis = Discriminator(out_gen)"
      ],
      "execution_count": 0,
      "outputs": []
    },
    {
      "cell_type": "markdown",
      "metadata": {
        "id": "lb7q2vlcMJzF",
        "colab_type": "text"
      },
      "source": [
        "The discriminator and the generator loss functions are defined as follows\n",
        "\n",
        "$L_d = - (E_x(D_w(x)) - E_z(D_w(G(z))))$ \n",
        "\n",
        "$L_g = E_z(D_w(G(z)))$\n",
        "\n",
        "The discriminator tries to maximize the Wasserstein distance using the Wasserstein approximation while the generator tries to maximise the expectation of the critic's interpretation of the generator distribution "
      ]
    },
    {
      "cell_type": "code",
      "metadata": {
        "id": "7M3DLBVeAn1r",
        "colab_type": "code",
        "colab": {}
      },
      "source": [
        "eps = 1e-5\n",
        "with tf.name_scope(\"Dis_loss\") as scope:\n",
        "  disloss = tf.reduce_mean(real_dis) - tf.reduce_mean(fake_dis)\n",
        "with tf.name_scope(\"Gen_loss\") as scope:\n",
        "  genloss = -tf.reduce_mean(fake_dis)\n",
        "\n",
        "dis_loss_total = tf.summary.scalar(\"dis_total_loss\", disloss)\n",
        "gen_loss_total = tf.summary.scalar(\"gen_total_loss\", genloss)"
      ],
      "execution_count": 0,
      "outputs": []
    },
    {
      "cell_type": "code",
      "metadata": {
        "id": "Ibhy8d6vCALa",
        "colab_type": "code",
        "colab": {}
      },
      "source": [
        "gen_var = [weights['gen_h'], weights['gen_final'], bias['gen_h'], bias['gen_final']]\n",
        "dis_var = [weights['dis_h'], weights['dis_final'], bias['dis_h'], bias['dis_final']]"
      ],
      "execution_count": 0,
      "outputs": []
    },
    {
      "cell_type": "markdown",
      "metadata": {
        "id": "SkI3eb7RNADe",
        "colab_type": "text"
      },
      "source": [
        "Optimize the parameters of the adversarial networks separately"
      ]
    },
    {
      "cell_type": "code",
      "metadata": {
        "id": "karyJM2NEehp",
        "colab_type": "code",
        "colab": {
          "base_uri": "https://localhost:8080/",
          "height": 88
        },
        "outputId": "d4589fb8-71f9-47dc-e95a-90284745d6af"
      },
      "source": [
        "with tf.name_scope(\"opt_dis\") as scope:\n",
        "  disopt = tf.train.RMSPropOptimizer(learning_rate = lr).minimize(-disloss, var_list = dis_var)\n",
        "with tf.name_scope(\"opt_gen\") as scope:\n",
        "  genopt = tf.train.RMSPropOptimizer(learning_rate = lr).minimize(genloss, var_list = gen_var)"
      ],
      "execution_count": 13,
      "outputs": [
        {
          "output_type": "stream",
          "text": [
            "W0622 05:32:55.560062 140461342128000 deprecation.py:506] From /usr/local/lib/python3.6/dist-packages/tensorflow/python/training/rmsprop.py:119: calling Ones.__init__ (from tensorflow.python.ops.init_ops) with dtype is deprecated and will be removed in a future version.\n",
            "Instructions for updating:\n",
            "Call initializer instance with the dtype argument instead of passing it to the constructor\n"
          ],
          "name": "stderr"
        }
      ]
    },
    {
      "cell_type": "markdown",
      "metadata": {
        "id": "MUFMyTo-UMwL",
        "colab_type": "text"
      },
      "source": [
        "In order for the Wasserstein approximation to hold, we require a smoothened loss curve, which necessiates gradient clipping"
      ]
    },
    {
      "cell_type": "code",
      "metadata": {
        "id": "eW7O4rqXQEcy",
        "colab_type": "code",
        "colab": {}
      },
      "source": [
        "clip_dis = [p.assign(tf.clip_by_value(p, -0.1, 0.1)) for p in dis_var]"
      ],
      "execution_count": 0,
      "outputs": []
    },
    {
      "cell_type": "code",
      "metadata": {
        "id": "UTjuKcklFIeC",
        "colab_type": "code",
        "colab": {}
      },
      "source": [
        "init = tf.global_variables_initializer()\n",
        "sess = tf.Session()\n",
        "sess.run(init)\n",
        "writer = tf.summary.FileWriter('./log', sess.graph)"
      ],
      "execution_count": 0,
      "outputs": []
    },
    {
      "cell_type": "markdown",
      "metadata": {
        "id": "DNaHw3h8Uy0v",
        "colab_type": "text"
      },
      "source": [
        "The paper recommends more intensive training of the critic network. We run the critic optimizer 5 times each epoch to implement this. "
      ]
    },
    {
      "cell_type": "code",
      "metadata": {
        "id": "NtTTszN3Ffdl",
        "colab_type": "code",
        "outputId": "4a9986d6-9ce2-40de-a244-8ac0840472bb",
        "colab": {
          "base_uri": "https://localhost:8080/",
          "height": 867
        }
      },
      "source": [
        "for epoch in range(epochs):\n",
        "  for _ in range(5):\n",
        "    x_batch, _ = mnist.train.next_batch(batch_size) \n",
        "    z_noise = np.random.uniform(-1., 1., size = [batch_size, z_dim])\n",
        "    _, dis_loss_epoch, dis_clip = sess.run([disopt, disloss,clip_dis], feed_dict = {x_in : x_batch, z_in : z_noise})\n",
        "  _, gen_loss_epoch = sess.run([genopt, genloss], feed_dict = {z_in : z_noise})\n",
        "  dis_summary = sess.run(dis_loss_total, feed_dict = {x_in : x_batch, z_in : z_noise})\n",
        "  writer.add_summary(dis_summary, epoch)\n",
        "  gen_summary = sess.run(gen_loss_total, feed_dict = {z_in : z_noise})\n",
        "  writer.add_summary(gen_summary, epoch)\n",
        "  \n",
        "  if epoch%2000 == 0:\n",
        "    print(\"Step : {0}, Generator loss : {1}, Discriminator loss : {2}\".format(epoch, gen_loss_epoch, dis_loss_epoch))\n",
        "  "
      ],
      "execution_count": 16,
      "outputs": [
        {
          "output_type": "stream",
          "text": [
            "Step : 0, Generator loss : 0.15705008804798126, Discriminator loss : -0.09565216302871704\n",
            "Step : 2000, Generator loss : 0.032520659267902374, Discriminator loss : 2.0399889945983887\n",
            "Step : 4000, Generator loss : -3.5177035331726074, Discriminator loss : 1.0709519386291504\n",
            "Step : 6000, Generator loss : 4.4702253341674805, Discriminator loss : 1.3379673957824707\n",
            "Step : 8000, Generator loss : 0.7786929607391357, Discriminator loss : 1.459078073501587\n",
            "Step : 10000, Generator loss : -4.919397830963135, Discriminator loss : 1.4652976989746094\n",
            "Step : 12000, Generator loss : 0.2768940329551697, Discriminator loss : 1.5756113529205322\n",
            "Step : 14000, Generator loss : -0.8504126071929932, Discriminator loss : 1.2252225875854492\n",
            "Step : 16000, Generator loss : 1.758014440536499, Discriminator loss : 1.2470028400421143\n",
            "Step : 18000, Generator loss : -2.4075167179107666, Discriminator loss : 0.9553072452545166\n",
            "Step : 20000, Generator loss : -7.365785121917725, Discriminator loss : 1.438612461090088\n",
            "Step : 22000, Generator loss : 2.5634193420410156, Discriminator loss : 0.7647531032562256\n",
            "Step : 24000, Generator loss : -6.391155242919922, Discriminator loss : 1.2463908195495605\n",
            "Step : 26000, Generator loss : -1.4854481220245361, Discriminator loss : 1.004063367843628\n",
            "Step : 28000, Generator loss : -5.774704933166504, Discriminator loss : 1.0486531257629395\n",
            "Step : 30000, Generator loss : -2.3475496768951416, Discriminator loss : 0.9596986770629883\n",
            "Step : 32000, Generator loss : -2.369044303894043, Discriminator loss : 0.8089632987976074\n",
            "Step : 34000, Generator loss : -5.6901350021362305, Discriminator loss : -0.012852668762207031\n",
            "Step : 36000, Generator loss : -7.79364538192749, Discriminator loss : 0.4631519317626953\n",
            "Step : 38000, Generator loss : 4.916324615478516, Discriminator loss : 1.0755672454833984\n",
            "Step : 40000, Generator loss : -2.38645601272583, Discriminator loss : 1.0114431381225586\n",
            "Step : 42000, Generator loss : -1.3163044452667236, Discriminator loss : 0.8279985189437866\n",
            "Step : 44000, Generator loss : 0.5765207409858704, Discriminator loss : 0.20907187461853027\n",
            "Step : 46000, Generator loss : -6.056347846984863, Discriminator loss : 1.3802194595336914\n",
            "Step : 48000, Generator loss : -4.265632629394531, Discriminator loss : 0.9768614768981934\n",
            "Step : 50000, Generator loss : 4.8701887130737305, Discriminator loss : 0.7459893226623535\n",
            "Step : 52000, Generator loss : -6.042880058288574, Discriminator loss : 0.9835000038146973\n",
            "Step : 54000, Generator loss : 2.48508358001709, Discriminator loss : 0.6874086856842041\n",
            "Step : 56000, Generator loss : -8.755006790161133, Discriminator loss : 0.5510787963867188\n",
            "Step : 58000, Generator loss : -2.592141628265381, Discriminator loss : 0.8089442253112793\n",
            "Step : 60000, Generator loss : -1.2947386503219604, Discriminator loss : 0.7143425941467285\n",
            "Step : 62000, Generator loss : 3.3943722248077393, Discriminator loss : -0.02300548553466797\n",
            "Step : 64000, Generator loss : -3.125584125518799, Discriminator loss : 0.832888126373291\n",
            "Step : 66000, Generator loss : -1.5510183572769165, Discriminator loss : 0.6454024314880371\n",
            "Step : 68000, Generator loss : -0.7201536893844604, Discriminator loss : 0.752088189125061\n",
            "Step : 70000, Generator loss : 1.2944629192352295, Discriminator loss : 0.7569963932037354\n",
            "Step : 72000, Generator loss : -4.767006874084473, Discriminator loss : 1.2939691543579102\n",
            "Step : 74000, Generator loss : -1.7454121112823486, Discriminator loss : 0.645378589630127\n",
            "Step : 76000, Generator loss : -1.3107538223266602, Discriminator loss : 0.7283058166503906\n",
            "Step : 78000, Generator loss : -4.149356842041016, Discriminator loss : 0.6528644561767578\n",
            "Step : 80000, Generator loss : -4.902700424194336, Discriminator loss : 0.6606540679931641\n",
            "Step : 82000, Generator loss : -5.212703704833984, Discriminator loss : 0.27761220932006836\n",
            "Step : 84000, Generator loss : 3.251417398452759, Discriminator loss : 0.6615142822265625\n",
            "Step : 86000, Generator loss : 0.7238212823867798, Discriminator loss : 0.47043758630752563\n",
            "Step : 88000, Generator loss : -1.842998743057251, Discriminator loss : 0.6827843189239502\n",
            "Step : 90000, Generator loss : 0.5804086327552795, Discriminator loss : 0.8273617029190063\n",
            "Step : 92000, Generator loss : -3.507093667984009, Discriminator loss : 0.387115478515625\n",
            "Step : 94000, Generator loss : 3.490511655807495, Discriminator loss : 1.0498449802398682\n",
            "Step : 96000, Generator loss : -0.05620351806282997, Discriminator loss : 0.7032231092453003\n",
            "Step : 98000, Generator loss : -1.9057490825653076, Discriminator loss : 0.5790753364562988\n"
          ],
          "name": "stdout"
        }
      ]
    },
    {
      "cell_type": "markdown",
      "metadata": {
        "id": "6zNeprARSkRl",
        "colab_type": "text"
      },
      "source": [
        "Visualise the output with a $6\\times6$ grid of noise fed into the generator"
      ]
    },
    {
      "cell_type": "code",
      "metadata": {
        "id": "fnCs3XTFHLjm",
        "colab_type": "code",
        "outputId": "d3fad657-dc1b-4252-dc31-a69a620517ac",
        "colab": {
          "base_uri": "https://localhost:8080/",
          "height": 395
        }
      },
      "source": [
        "n = 6\n",
        "canvas = np.empty((28*n, 28*n))\n",
        "for i in range(n):\n",
        "  z_noise = np.random.uniform(-1., 1., size = [batch_size, z_dim])\n",
        "  g = sess.run(out_gen, feed_dict = {z_in : z_noise})\n",
        "  g = -1*(g - 1)\n",
        "  for j in range(n):\n",
        "    canvas[i*28:(i + 1)*28, j*28:(j+1)*28] = g[j].reshape(28,28)\n",
        "  \n",
        "plt.figure(figsize = (n,n))\n",
        "plt.imshow(canvas, origin= \"upper\", cmap = \"gray\")"
      ],
      "execution_count": 17,
      "outputs": [
        {
          "output_type": "execute_result",
          "data": {
            "text/plain": [
              "<matplotlib.image.AxesImage at 0x7fbf6a245940>"
            ]
          },
          "metadata": {
            "tags": []
          },
          "execution_count": 17
        },
        {
          "output_type": "display_data",
          "data": {
            "image/png": "[encoded data removed]",
            "text/plain": [
              "<Figure size 432x432 with 1 Axes>"
            ]
          },
          "metadata": {
            "tags": []
          }
        }
      ]
    },
    {
      "cell_type": "code",
      "metadata": {
        "id": "D94rTUDfUb-o",
        "colab_type": "code",
        "colab": {}
      },
      "source": [
        ""
      ],
      "execution_count": 0,
      "outputs": []
    }
  ]
}